{
 "cells": [
  {
   "cell_type": "code",
   "execution_count": 1,
   "metadata": {},
   "outputs": [],
   "source": [
    "import requests\n",
    "from bs4 import BeautifulSoup\n",
    "from urllib.parse import urljoin\n",
    "import pandas as pd\n",
    "import numpy as np\n",
    "from sklearn.metrics.pairwise import cosine_similarity"
   ]
  },
  {
   "cell_type": "code",
   "execution_count": 2,
   "metadata": {},
   "outputs": [
    {
     "data": {
      "text/html": [
       "<div>\n",
       "<style scoped>\n",
       "    .dataframe tbody tr th:only-of-type {\n",
       "        vertical-align: middle;\n",
       "    }\n",
       "\n",
       "    .dataframe tbody tr th {\n",
       "        vertical-align: top;\n",
       "    }\n",
       "\n",
       "    .dataframe thead th {\n",
       "        text-align: right;\n",
       "    }\n",
       "</style>\n",
       "<table border=\"1\" class=\"dataframe\">\n",
       "  <thead>\n",
       "    <tr style=\"text-align: right;\">\n",
       "      <th></th>\n",
       "      <th>Name</th>\n",
       "      <th>Element</th>\n",
       "      <th>Weapon</th>\n",
       "      <th>Region</th>\n",
       "      <th>Image</th>\n",
       "    </tr>\n",
       "  </thead>\n",
       "  <tbody>\n",
       "    <tr>\n",
       "      <th>0</th>\n",
       "      <td>Albedo</td>\n",
       "      <td>Geo</td>\n",
       "      <td>Sword</td>\n",
       "      <td>Mondstadt</td>\n",
       "      <td>https://static.wikia.nocookie.net/gensin-impac...</td>\n",
       "    </tr>\n",
       "    <tr>\n",
       "      <th>1</th>\n",
       "      <td>Aloy</td>\n",
       "      <td>Cryo</td>\n",
       "      <td>Bow</td>\n",
       "      <td>Others</td>\n",
       "      <td>https://static.wikia.nocookie.net/gensin-impac...</td>\n",
       "    </tr>\n",
       "    <tr>\n",
       "      <th>2</th>\n",
       "      <td>Amber</td>\n",
       "      <td>Pyro</td>\n",
       "      <td>Bow</td>\n",
       "      <td>Mondstadt</td>\n",
       "      <td>https://static.wikia.nocookie.net/gensin-impac...</td>\n",
       "    </tr>\n",
       "    <tr>\n",
       "      <th>3</th>\n",
       "      <td>Arataki Itto</td>\n",
       "      <td>Geo</td>\n",
       "      <td>Claymore</td>\n",
       "      <td>Inazuma</td>\n",
       "      <td>https://static.wikia.nocookie.net/gensin-impac...</td>\n",
       "    </tr>\n",
       "    <tr>\n",
       "      <th>4</th>\n",
       "      <td>Barbara</td>\n",
       "      <td>Hydro</td>\n",
       "      <td>Catalyst</td>\n",
       "      <td>Mondstadt</td>\n",
       "      <td>https://static.wikia.nocookie.net/gensin-impac...</td>\n",
       "    </tr>\n",
       "  </tbody>\n",
       "</table>\n",
       "</div>"
      ],
      "text/plain": [
       "           Name Element    Weapon     Region  \\\n",
       "0        Albedo     Geo     Sword  Mondstadt   \n",
       "1          Aloy    Cryo       Bow     Others   \n",
       "2         Amber    Pyro       Bow  Mondstadt   \n",
       "3  Arataki Itto     Geo  Claymore    Inazuma   \n",
       "4       Barbara   Hydro  Catalyst  Mondstadt   \n",
       "\n",
       "                                               Image  \n",
       "0  https://static.wikia.nocookie.net/gensin-impac...  \n",
       "1  https://static.wikia.nocookie.net/gensin-impac...  \n",
       "2  https://static.wikia.nocookie.net/gensin-impac...  \n",
       "3  https://static.wikia.nocookie.net/gensin-impac...  \n",
       "4  https://static.wikia.nocookie.net/gensin-impac...  "
      ]
     },
     "execution_count": 2,
     "metadata": {},
     "output_type": "execute_result"
    }
   ],
   "source": [
    "df_chars = pd.read_pickle('./data/characters.pickle')\n",
    "df_chars.head()"
   ]
  },
  {
   "cell_type": "code",
   "execution_count": 3,
   "metadata": {},
   "outputs": [],
   "source": [
    "url = 'https://genshin-impact.fandom.com/wiki/Spices_From_the_West'\n",
    "response = requests.get(url)\n",
    "soup = BeautifulSoup(response.text, 'lxml')"
   ]
  },
  {
   "cell_type": "code",
   "execution_count": 4,
   "metadata": {},
   "outputs": [],
   "source": [
    "dishes = soup.select_one('#mw-content-text > div.mw-parser-output > div.columntemplate')"
   ]
  },
  {
   "cell_type": "code",
   "execution_count": 5,
   "metadata": {},
   "outputs": [],
   "source": [
    "data_dishes = []\n",
    "for dish in dishes.select('li'):\n",
    "    el_anchor = dish.select_one('span > a')\n",
    "    el_img = el_anchor.select_one('img')\n",
    "    \n",
    "    data_dish = {\n",
    "        'name': el_anchor.get('title'),\n",
    "        'link': urljoin('https://genshin-impact.fandom.com/', el_anchor.get('href')),\n",
    "        'image': el_img.get('data-src').split('/revision')[0]\n",
    "    }\n",
    "    data_dishes.append(data_dish)"
   ]
  },
  {
   "cell_type": "code",
   "execution_count": 6,
   "metadata": {},
   "outputs": [],
   "source": [
    "df_dishes = pd.DataFrame(data_dishes)\n",
    "\n",
    "df_dishes.to_csv('./data/spices_dishes.csv')\n",
    "df_dishes.to_pickle('./data/spices_dishes.pickle')"
   ]
  },
  {
   "cell_type": "code",
   "execution_count": 7,
   "metadata": {},
   "outputs": [],
   "source": [
    "pref = soup.select_one('#mw-content-text > div.mw-parser-output > table.fandom-table')"
   ]
  },
  {
   "cell_type": "code",
   "execution_count": 8,
   "metadata": {},
   "outputs": [],
   "source": [
    "data_prefs = []\n",
    "for el_entry in pref.select('tr')[1:]:\n",
    "    el_cells = el_entry.select('td')\n",
    "    \n",
    "    el_char = el_cells[0]\n",
    "    el_char_a = el_char.select_one('div.card_image > a')\n",
    "    \n",
    "    likes = []\n",
    "    el_likes = el_cells[1]\n",
    "    for el_dish in el_likes.select('a'):\n",
    "        likes.append(el_dish.get('title'))\n",
    "    \n",
    "    dislikes = []\n",
    "    el_dislikes = el_cells[2]\n",
    "    for el_dish in el_dislikes.select('a'):\n",
    "        dislikes.append(el_dish.get('title'))\n",
    "    \n",
    "    data_pref = {\n",
    "        'name': el_char_a.get('title'),\n",
    "        'likes': likes,\n",
    "        'dislikes': dislikes\n",
    "    }\n",
    "    data_prefs.append(data_pref)"
   ]
  },
  {
   "cell_type": "code",
   "execution_count": 9,
   "metadata": {},
   "outputs": [],
   "source": [
    "data_scores = []\n",
    "for data_pref in data_prefs:\n",
    "    name = data_pref['name']\n",
    "    for like in data_pref['likes']:\n",
    "        data_scores.append({\n",
    "            'name': name,\n",
    "            'dish': like,\n",
    "            'score': 1\n",
    "        })\n",
    "    \n",
    "    for dislike in data_pref['dislikes']:\n",
    "        data_scores.append({\n",
    "            'name': name,\n",
    "            'dish': dislike,\n",
    "            'score': -1\n",
    "        })\n",
    "    "
   ]
  },
  {
   "cell_type": "code",
   "execution_count": 10,
   "metadata": {},
   "outputs": [],
   "source": [
    "df_scores = pd.DataFrame(data_scores)\n",
    "\n",
    "df_scores.to_csv('./data/spices_scores.csv')\n",
    "df_scores.to_pickle('./data/spices_scores.pickle')"
   ]
  },
  {
   "cell_type": "code",
   "execution_count": 11,
   "metadata": {},
   "outputs": [],
   "source": [
    "df_vectors = df_scores.groupby(['name', 'dish']).mean()['score']\\\n",
    "            .unstack().fillna(0).astype(int)"
   ]
  },
  {
   "cell_type": "code",
   "execution_count": 12,
   "metadata": {},
   "outputs": [],
   "source": [
    "from utils import remove_duplicates"
   ]
  },
  {
   "cell_type": "code",
   "execution_count": 13,
   "metadata": {},
   "outputs": [],
   "source": [
    "sim_chars = pd.DataFrame(\n",
    "    cosine_similarity(df_vectors),\n",
    "    index=df_vectors.index.copy(),\n",
    "    columns=df_vectors.index.copy(), # make sure to use copy!\n",
    ")\n",
    "\n",
    "sim_chars.index.name = 'Source'\n",
    "sim_chars.columns.name = 'Target'\n",
    "\n",
    "df_sim_chars = sim_chars.stack().reset_index()\\\n",
    "    .rename(columns={0: 'Similarity'})\n",
    "df_sim_chars = df_sim_chars.loc[~np.isclose(df_sim_chars['Similarity'], 0)].reset_index(drop=True)\n",
    "\n",
    "df_sim_chars = remove_duplicates(df_sim_chars)\n",
    "df_sim_chars.to_csv('./data/spices_sim_chars.csv')\n",
    "df_sim_chars.to_pickle('./data/spices_sim_chars.pickle')"
   ]
  },
  {
   "cell_type": "code",
   "execution_count": 14,
   "metadata": {},
   "outputs": [],
   "source": [
    "sim_dishes = pd.DataFrame(\n",
    "    cosine_similarity(df_vectors.T),\n",
    "    index=df_vectors.columns.copy(),\n",
    "    columns=df_vectors.columns.copy()\n",
    ")\n",
    "\n",
    "sim_dishes.index.name = 'Source'\n",
    "sim_dishes.columns.name = 'Target'\n",
    "\n",
    "df_sim_dishes = sim_dishes.stack().reset_index()\\\n",
    "    .rename(columns={0: 'Similarity'})\n",
    "df_sim_dishes = df_sim_dishes.loc[~np.isclose(df_sim_dishes['Similarity'], 0)].reset_index(drop=True)\n",
    "\n",
    "df_sim_dishes = remove_duplicates(df_sim_dishes)\n",
    "df_sim_dishes.to_csv('./data/spices_sim_dishes.csv')\n",
    "df_sim_dishes.to_pickle('./data/spices_sim_dishes.pickle')"
   ]
  },
  {
   "cell_type": "code",
   "execution_count": 15,
   "metadata": {},
   "outputs": [],
   "source": [
    "df_vectors.to_csv('./data/spices_vectors.csv')\n",
    "df_vectors.to_pickle('./data/spices_vectors.pickle')"
   ]
  },
  {
   "cell_type": "code",
   "execution_count": 16,
   "metadata": {},
   "outputs": [],
   "source": [
    "from sklearn import preprocessing, manifold\n",
    "from sklearn.pipeline import make_pipeline"
   ]
  },
  {
   "cell_type": "code",
   "execution_count": 17,
   "metadata": {},
   "outputs": [
    {
     "name": "stderr",
     "output_type": "stream",
     "text": [
      "/Users/miraclexyz/miniforge3/envs/nlp/lib/python3.9/site-packages/sklearn/manifold/_t_sne.py:991: FutureWarning: The PCA initialization in TSNE will change to have the standard deviation of PC1 equal to 1e-4 in 1.2. This will ensure better convergence.\n",
      "  warnings.warn(\n"
     ]
    }
   ],
   "source": [
    "pipe = make_pipeline(\n",
    "    preprocessing.StandardScaler(),\n",
    "    manifold.TSNE(n_components=2, init=\"pca\", learning_rate=\"auto\", random_state=42),\n",
    ")\n",
    "\n",
    "embed_chars_array = pipe.fit_transform(df_vectors)\n",
    "embed_chars = pd.DataFrame(\n",
    "    embed_chars_array, index=df_vectors.index, columns=[\"x\", \"y\"]\n",
    ")\n",
    "\n",
    "embed_chars.to_csv('./data/spices_embed_chars.csv')\n",
    "embed_chars.to_pickle('./data/spices_embed_chars.pickle')"
   ]
  },
  {
   "cell_type": "code",
   "execution_count": 18,
   "metadata": {},
   "outputs": [
    {
     "name": "stderr",
     "output_type": "stream",
     "text": [
      "/Users/miraclexyz/miniforge3/envs/nlp/lib/python3.9/site-packages/sklearn/manifold/_t_sne.py:991: FutureWarning: The PCA initialization in TSNE will change to have the standard deviation of PC1 equal to 1e-4 in 1.2. This will ensure better convergence.\n",
      "  warnings.warn(\n"
     ]
    }
   ],
   "source": [
    "pipe = make_pipeline(\n",
    "    preprocessing.StandardScaler(),\n",
    "    manifold.TSNE(n_components=2, init=\"pca\", learning_rate=\"auto\", random_state=42),\n",
    ")\n",
    "\n",
    "embed_dishes_array = pipe.fit_transform(df_vectors.T)\n",
    "embed_dishes = pd.DataFrame(\n",
    "    embed_dishes_array, index=df_vectors.columns, columns=[\"x\", \"y\"]\n",
    ")\n",
    "\n",
    "embed_dishes.to_csv('./data/spices_embed_dishes.csv')\n",
    "embed_dishes.to_pickle('./data/spices_embed_dishes.pickle')"
   ]
  }
 ],
 "metadata": {
  "kernelspec": {
   "display_name": "Python 3.9.13 ('nlp')",
   "language": "python",
   "name": "python3"
  },
  "language_info": {
   "codemirror_mode": {
    "name": "ipython",
    "version": 3
   },
   "file_extension": ".py",
   "mimetype": "text/x-python",
   "name": "python",
   "nbconvert_exporter": "python",
   "pygments_lexer": "ipython3",
   "version": "3.9.13"
  },
  "orig_nbformat": 4,
  "vscode": {
   "interpreter": {
    "hash": "5bb721e3c4003d4a0b930b9bcc8d98d6617f34d4d14a69535182e6d0fd343d4c"
   }
  }
 },
 "nbformat": 4,
 "nbformat_minor": 2
}
